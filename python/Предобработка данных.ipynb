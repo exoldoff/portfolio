{
 "cells": [
  {
   "cell_type": "markdown",
   "id": "e06910dd",
   "metadata": {
    "id": "e06910dd"
   },
   "source": [
    "# Проект спринта 7. «Секреты Темнолесья».\n",
    "\n",
    "- Автор: Холкин Егор\n",
    "- Дата: 7.03.2025"
   ]
  },
  {
   "cell_type": "markdown",
   "id": "4149134c",
   "metadata": {
    "id": "4149134c"
   },
   "source": [
    "### Цели и задачи проекта\n",
    "\n",
    "Цель проекта — познакомиться с данными, проверить их корректность и провести предобработку, получив необходимый срез данных.\n",
    "Задача заключается в анализе и представлении данных о продажах игр, популярных платформах и предпочтениях игроков разных регионов. Статья должна привлечь внимание любителей старых игр и заинтересовать их проектом «Секреты Темнолесья»."
   ]
  },
  {
   "cell_type": "markdown",
   "id": "728986ea",
   "metadata": {
    "id": "728986ea"
   },
   "source": [
    "### Описание данных\n",
    "\n",
    "- Name — название игры.\n",
    "\n",
    "- Platform — название платформы.\n",
    "\n",
    "- Year of Release — год выпуска игры.\n",
    "\n",
    "- Genre — жанр игры.\n",
    "\n",
    "- NA sales — продажи в Северной Америке (в миллионах проданных копий).\n",
    "\n",
    "- EU sales — продажи в Европе (в миллионах проданных копий).\n",
    "\n",
    "- JP sales — продажи в Японии (в миллионах проданных копий).\n",
    "\n",
    "- Other sales — продажи в других странах (в миллионах проданных копий).\n",
    "\n",
    "- Critic Score — оценка критиков (от 0 до 100).\n",
    "\n",
    "- User Score — оценка пользователей (от 0 до 10).\n",
    "\n",
    "- Rating — рейтинг организации ESRB (англ. Entertainment Software Rating Board). Эта ассоциация определяет рейтинг компьютерных игр и присваивает им подходящую возрастную категорию."
   ]
  },
  {
   "cell_type": "markdown",
   "id": "4fecaf95",
   "metadata": {
    "id": "4fecaf95"
   },
   "source": [
    "### Содержимое проекта\n",
    "\n",
    "В ходе проекта мы познакомились с данными, проверили их корректность и провели предобработку, получив необходимый срез данных. \n",
    "Конкретнее, были выполнены следующие задачи:\n",
    "\n",
    "- [Данные обработаны на предмет устранения ошибок и пропусков](##проверка-ошибок-в-данных-и-их-предобработка)\n",
    "  \n",
    "- [Обнаружены и удалены дубликаты](###явные-и-неявные-дубликаты-в-данных)\n",
    "\n",
    "- [Отобраны данные по времени выхода игры](##фильтрация-данных)\n",
    "\n",
    "- [Категоризовать игры по оценкам пользователей и экспертов](#категоризация-данных)\n",
    "\n",
    "- [Выделен топ-7 платформ по количеству игр, выпущенных за весь требуемый период](###выделим-топ-7-платформ-по-количеству-игр,-выпущенных-за-весь-актуальный-период.)\n",
    "\n",
    "_(к сожалению, оглавление не работает у меня, хотя сделал вроде верно. Распространенная проблема среди моих однокурсников)_\n",
    "\n",
    "---"
   ]
  },
  {
   "cell_type": "markdown",
   "id": "6f7d21d6",
   "metadata": {
    "id": "6f7d21d6"
   },
   "source": [
    "## 1. Загрузка данных и знакомство с ними\n",
    "\n",
    "Загружаем необходимые библиотеки и данные:"
   ]
  },
  {
   "cell_type": "code",
   "execution_count": 1,
   "id": "ebb66dc5",
   "metadata": {
    "id": "ebb66dc5"
   },
   "outputs": [],
   "source": [
    "import pandas as pd\n",
    "\n",
    "df = pd.read_csv('new_games.csv')\n"
   ]
  },
  {
   "cell_type": "code",
   "execution_count": 2,
   "id": "3937acf7",
   "metadata": {
    "id": "3937acf7"
   },
   "outputs": [
    {
     "name": "stdout",
     "output_type": "stream",
     "text": [
      "<class 'pandas.core.frame.DataFrame'>\n",
      "RangeIndex: 16956 entries, 0 to 16955\n",
      "Data columns (total 11 columns):\n",
      " #   Column           Non-Null Count  Dtype  \n",
      "---  ------           --------------  -----  \n",
      " 0   Name             16954 non-null  object \n",
      " 1   Platform         16956 non-null  object \n",
      " 2   Year of Release  16681 non-null  float64\n",
      " 3   Genre            16954 non-null  object \n",
      " 4   NA sales         16956 non-null  float64\n",
      " 5   EU sales         16956 non-null  object \n",
      " 6   JP sales         16956 non-null  object \n",
      " 7   Other sales      16956 non-null  float64\n",
      " 8   Critic Score     8242 non-null   float64\n",
      " 9   User Score       10152 non-null  object \n",
      " 10  Rating           10085 non-null  object \n",
      "dtypes: float64(4), object(7)\n",
      "memory usage: 1.4+ MB\n"
     ]
    }
   ],
   "source": [
    "df.info()"
   ]
  },
  {
   "cell_type": "markdown",
   "id": "26267bc0",
   "metadata": {
    "id": "26267bc0"
   },
   "source": [
    "- Датасет представлен 11 столбцами и 16956 строками. Большая часть данных имеет тип Object, обоснованность чего мы проверим позднее. Имена столбцов написаны в классической стилистике, что является предпосылкой для перевода их в более удобный вид (например, snake case)\n",
    "- Сразу обращаем внимание на наличие пропусков в данных, в столбце 8 - серьезные пропуски."
   ]
  },
  {
   "cell_type": "markdown",
   "id": "774bf76e",
   "metadata": {
    "id": "774bf76e"
   },
   "source": [
    "---\n",
    "\n",
    "## Проверка ошибок в данных и их предобработка\n",
    "\n",
    "\n",
    "### Названия, или метки, столбцов датафрейма\n",
    "\n",
    "Приведем названия столбцов к Snake case:"
   ]
  },
  {
   "cell_type": "code",
   "execution_count": 3,
   "id": "b9276a2b",
   "metadata": {
    "id": "b9276a2b"
   },
   "outputs": [
    {
     "data": {
      "text/plain": [
       "Index(['Name', 'Platform', 'Year of Release', 'Genre', 'NA sales', 'EU sales',\n",
       "       'JP sales', 'Other sales', 'Critic Score', 'User Score', 'Rating'],\n",
       "      dtype='object')"
      ]
     },
     "execution_count": 3,
     "metadata": {},
     "output_type": "execute_result"
    }
   ],
   "source": [
    "df.columns"
   ]
  },
  {
   "cell_type": "code",
   "execution_count": 4,
   "id": "d554563c",
   "metadata": {
    "id": "d554563c"
   },
   "outputs": [
    {
     "name": "stdout",
     "output_type": "stream",
     "text": [
      "Index(['name', 'platform', 'year_of_release', 'genre', 'na_sales', 'eu_sales',\n",
      "       'jp_sales', 'other_sales', 'critic_score', 'user_score', 'rating'],\n",
      "      dtype='object')\n"
     ]
    }
   ],
   "source": [
    "df.columns = df.columns.str.replace(' ', '_').str.lower()\n",
    "print(df.columns)\n"
   ]
  },
  {
   "cell_type": "markdown",
   "id": "41bc6bf8",
   "metadata": {
    "id": "41bc6bf8"
   },
   "source": [
    "### Типы данных\n",
    "\n",
    "Поработаем с типами данных. Для начала ознакомимся с уникальными значениями в основных столбцах:"
   ]
  },
  {
   "cell_type": "code",
   "execution_count": 5,
   "id": "8adaac81",
   "metadata": {
    "id": "8adaac81"
   },
   "outputs": [
    {
     "name": "stdout",
     "output_type": "stream",
     "text": [
      "Уникальные значения в столбце year_of_release: \n",
      " [2006. 1985. 2008. 2009. 1996. 1989. 1984. 2005. 1999. 2007. 2010. 2013.\n",
      " 2004. 1990. 1988. 2002. 2001. 2011. 1998. 2015. 2012. 2014. 1992. 1997.\n",
      " 1993. 1994. 1982. 2016. 2003. 1986. 2000.   nan 1995. 1991. 1981. 1987.\n",
      " 1980. 1983.]\n",
      "Уникальные значения в столбце eu_sales: \n",
      " ['28.96' '3.58' '12.76' '10.93' '8.89' '2.26' '9.14' '9.18' '6.94' '0.63'\n",
      " '10.95' '7.47' '6.18' '8.03' '4.89' '8.49' '9.09' '0.4' '3.75' '9.2'\n",
      " '4.46' '2.71' '3.44' '5.14' '5.49' '3.9' '5.35' '3.17' '5.09' '4.24'\n",
      " '5.04' '5.86' '3.68' '4.19' '5.73' '3.59' '4.51' '2.55' '4.02' '4.37'\n",
      " '6.31' '3.45' '2.81' '2.85' '3.49' '0.01' '3.35' '2.04' '3.07' '3.87'\n",
      " '3.0' '4.82' '3.64' '2.15' '3.69' '2.65' '2.56' '3.11' '3.14' '1.94'\n",
      " '1.95' '2.47' '2.28' '3.42' '3.63' '2.36' '1.71' '1.85' '2.79' '1.24'\n",
      " '6.12' '1.53' '3.47' '2.24' '5.01' '2.01' '1.72' '2.07' '6.42' '3.86'\n",
      " '0.45' '3.48' '1.89' '5.75' '2.17' '1.37' '2.35' '1.18' '2.11' '1.88'\n",
      " '2.83' '2.99' '2.89' '3.27' '2.22' '2.14' '1.45' '1.75' '1.04' '1.77'\n",
      " '3.02' '2.75' '2.16' '1.9' '2.59' '2.2' '4.3' '0.93' '2.53' '2.52' '1.79'\n",
      " '1.3' '2.6' '1.58' '1.2' '1.56' '1.34' '1.26' '0.83' '6.21' '2.8' '1.59'\n",
      " '1.73' '4.33' '1.83' '0.0' '2.18' '1.98' '1.47' '0.67' '1.55' '1.91'\n",
      " '0.69' '0.6' '1.93' '1.64' '0.55' '2.19' '1.11' '2.29' '2.5' '0.96'\n",
      " '1.21' '1.12' '0.77' '1.69' '1.08' '0.79' '2.37' '2.46' '0.26' '0.75'\n",
      " '1.25' '2.43' '0.98' '0.74' '2.23' '0.61' '2.45' '1.41' '1.8' '3.28'\n",
      " '1.16' '1.99' '1.38' '1.36' '1.17' '1.19' '0.99' '1.68' '2.0' '1.33'\n",
      " '1.57' '1.48' '2.1' '1.27' '1.97' '0.91' '1.39' '1.96' '0.24' '1.51'\n",
      " '0.14' '1.29' '2.39' '1.03' '0.5' '0.58' '1.31' '2.02' '1.32' '1.01'\n",
      " '2.27' '2.3' '1.82' '2.78' '0.44' '0.48' '0.27' '0.21' '2.48' '0.51'\n",
      " '1.52' '0.04' '0.28' '1.35' '0.87' '2.13' '1.13' '1.76' '0.76' '2.12'\n",
      " '0.66' '1.6' '1.44' '1.43' '1.7' '0.47' '1.87' '0.86' '0.73' '1.28'\n",
      " '0.81' '1.09' '0.68' '1.22' '1.4' '1.02' '1.49' '1.14' '0.49' '0.9'\n",
      " '0.38' '1.42' '0.95' '1.62' '0.71' '1.05' '0.92' '0.33' '0.3' '1.67'\n",
      " '1.0' '0.89' '0.1' '0.72' '0.59' '0.56' '0.16' '0.97' '0.62' 'unknown'\n",
      " '0.85' '0.94' '0.88' '0.84' '1.06' '0.2' '1.15' '0.8' '1.1' '0.7' '1.92'\n",
      " '0.32' '0.15' '0.53' '0.09' '1.46' '0.29' '0.22' '1.23' '0.07' '0.17'\n",
      " '0.54' '0.36' '0.31' '1.84' '0.52' '0.11' '0.64' '0.12' '2.05' '1.63'\n",
      " '0.82' '0.08' '0.57' '1.65' '0.19' '0.02' '0.43' '0.25' '1.5' '0.18'\n",
      " '0.39' '0.13' '1.07' '0.46' '0.41' '0.06' '0.03' '0.37' '0.05' '0.23'\n",
      " '0.65' '0.42' '0.34' '0.35' '0.78']\n",
      "Уникальные значения в столбце jp_sales: \n",
      " ['3.77' '6.81' '3.79' '3.28' '10.22' '4.22' '6.5' '2.93' '4.7' '0.28'\n",
      " '1.93' '4.13' '7.2' '3.6' '0.24' '2.53' '0.98' '0.41' '3.54' '4.16'\n",
      " '6.04' '4.18' '3.84' '0.06' '0.47' '5.38' '5.32' '5.65' '1.87' '0.13'\n",
      " '3.12' '0.36' '0.11' '4.35' '0.65' '0.07' '0.08' '0.49' '0.3' '2.66'\n",
      " '2.69' '0.48' '0.38' '5.33' '1.91' '3.96' '3.1' '1.1' '1.2' '0.14' '2.54'\n",
      " '2.14' '0.81' '2.12' '0.44' '3.15' '1.25' '0.04' '0.0' '2.47' '2.23'\n",
      " '1.69' '0.01' '3.0' '0.02' '4.39' '1.98' '0.1' '3.81' '0.05' '2.49'\n",
      " '1.58' '3.14' '2.73' '0.66' '0.22' '3.63' '1.45' '1.31' '2.43' '0.7'\n",
      " '0.35' '1.4' '0.6' '2.26' '1.42' '1.28' '1.39' '0.87' '0.17' '0.94'\n",
      " '0.19' '0.21' '1.6' '0.16' '1.03' '0.25' '2.06' '1.49' '1.29' '0.09'\n",
      " '2.87' '0.03' '0.78' '0.83' '2.33' '2.02' '1.36' '1.81' '1.97' '0.91'\n",
      " '0.99' '0.95' '2.0' '1.01' '2.78' '2.11' '1.09' '0.2' '1.9' '1.27' '3.61'\n",
      " '1.57' '2.2' '1.7' '1.08' '0.15' '1.11' '0.29' '1.54' '0.12' '0.89'\n",
      " '4.87' '1.52' '1.32' '1.15' '4.1' '1.46' '0.46' '1.05' '1.61' '0.26'\n",
      " '1.38' '0.62' '0.73' '0.57' '0.31' '0.58' '1.76' '2.1' '0.9' '0.51'\n",
      " '0.64' '2.46' '0.23' '0.37' '0.92' '1.07' '2.62' '1.12' '0.54' '0.27'\n",
      " '0.59' '3.67' '0.55' '1.75' '3.44' '0.33' '2.55' '2.32' '2.79' '0.74'\n",
      " '3.18' '0.82' '0.77' '0.4' '2.35' '3.19' '0.8' '0.76' '3.03' '0.88'\n",
      " 'unknown' '0.45' '1.16' '0.34' '1.19' '1.13' '2.13' '1.96' '0.71' '1.04'\n",
      " '2.68' '0.68' '2.65' '0.96' '2.41' '0.52' '0.18' '1.34' '1.48' '2.34'\n",
      " '1.06' '1.21' '2.29' '1.63' '2.05' '2.17' '1.56' '1.35' '1.33' '0.63'\n",
      " '0.79' '0.75' '0.53' '1.53' '1.3' '0.39' '0.69' '0.42' '0.93' '0.56'\n",
      " '0.84' '0.72' '0.32' '1.71' '1.65' '0.61' '1.51' '1.5' '1.44' '1.24'\n",
      " '1.18' '1.37' '1.0' '1.26' '0.85' '0.43' '0.67' '1.14' '0.86' '1.17'\n",
      " '0.5' '1.02' '0.97']\n",
      "Уникальные значения в столбце user_score: \n",
      " ['8' nan '8.3' '8.5' '6.6' '8.4' '8.6' '7.7' '6.3' '7.4' '8.2' '9' '7.9'\n",
      " '8.1' '8.7' '7.1' '3.4' '5.3' '4.8' '3.2' '8.9' '6.4' '7.8' '7.5' '2.6'\n",
      " '7.2' '9.2' '7' '7.3' '4.3' '7.6' '5.7' '5' '9.1' '6.5' 'tbd' '8.8' '6.9'\n",
      " '9.4' '6.8' '6.1' '6.7' '5.4' '4' '4.9' '4.5' '9.3' '6.2' '4.2' '6' '3.7'\n",
      " '4.1' '5.8' '5.6' '5.5' '4.4' '4.6' '5.9' '3.9' '3.1' '2.9' '5.2' '3.3'\n",
      " '4.7' '5.1' '3.5' '2.5' '1.9' '3' '2.7' '2.2' '2' '9.5' '2.1' '3.6' '2.8'\n",
      " '1.8' '3.8' '0' '1.6' '9.6' '2.4' '1.7' '1.1' '0.3' '1.5' '0.7' '1.2'\n",
      " '2.3' '0.5' '1.3' '0.2' '0.6' '1.4' '0.9' '1' '9.7']\n",
      "Уникальные значения в столбце critic_score: \n",
      " [76. nan 82. 80. 89. 58. 87. 91. 61. 97. 95. 77. 88. 83. 94. 93. 85. 86.\n",
      " 98. 96. 90. 84. 73. 74. 78. 92. 71. 72. 68. 62. 49. 67. 81. 66. 56. 79.\n",
      " 70. 59. 64. 75. 60. 63. 69. 50. 25. 42. 44. 55. 48. 57. 29. 47. 65. 54.\n",
      " 20. 53. 37. 38. 33. 52. 30. 32. 43. 45. 51. 40. 46. 39. 34. 35. 41. 36.\n",
      " 28. 31. 27. 26. 19. 23. 24. 21. 17. 22. 13.]\n",
      "Уникальные значения в столбце rating: \n",
      " ['E' nan 'M' 'T' 'E10+' 'K-A' 'AO' 'EC' 'RP']\n"
     ]
    }
   ],
   "source": [
    "# проверим уникальные значения в столбцах с пропусками\n",
    "\n",
    "for col in ['year_of_release', 'eu_sales', 'jp_sales', 'user_score', 'critic_score', 'rating']:\n",
    "    uniq = df[col].unique()\n",
    "    print(f\"Уникальные значения в столбце {col}: \\n {uniq}\")"
   ]
  },
  {
   "cell_type": "markdown",
   "id": "63378edf",
   "metadata": {
    "id": "63378edf"
   },
   "source": [
    "Переходим к изменению типа данных у числовых столбцов на тип float64:\n",
    "Обратим внимание на встречающиеся значения `unknown`. Вероятно, так обозначены пропуски в данных. Эти значения вызовут ошибку при применении функции `to_numeric`, поэтому используем параметр errors='coerce', который заменит `unknown` на NaN:\n",
    "\n"
   ]
  },
  {
   "cell_type": "code",
   "execution_count": 6,
   "id": "5033ee32",
   "metadata": {
    "id": "5033ee32"
   },
   "outputs": [],
   "source": [
    "df['eu_sales'] = pd.to_numeric(df['eu_sales'], errors='coerce')\n",
    "df['jp_sales'] = pd.to_numeric(df['jp_sales'], errors='coerce')\n",
    "df['user_score'] = df['user_score'].replace('tbd', 'nan')  # заменим странное значение на nan\n",
    "df['user_score'] = pd.to_numeric(df['user_score'], errors='coerce')\n",
    "df['critic_score'] = pd.to_numeric(df['critic_score'], errors='coerce')"
   ]
  },
  {
   "cell_type": "code",
   "execution_count": 7,
   "id": "3a26fb26",
   "metadata": {
    "id": "3a26fb26"
   },
   "outputs": [
    {
     "name": "stdout",
     "output_type": "stream",
     "text": [
      "<class 'pandas.core.frame.DataFrame'>\n",
      "RangeIndex: 16956 entries, 0 to 16955\n",
      "Data columns (total 11 columns):\n",
      " #   Column           Non-Null Count  Dtype  \n",
      "---  ------           --------------  -----  \n",
      " 0   name             16954 non-null  object \n",
      " 1   platform         16956 non-null  object \n",
      " 2   year_of_release  16681 non-null  float64\n",
      " 3   genre            16954 non-null  object \n",
      " 4   na_sales         16956 non-null  float64\n",
      " 5   eu_sales         16950 non-null  float64\n",
      " 6   jp_sales         16952 non-null  float64\n",
      " 7   other_sales      16956 non-null  float64\n",
      " 8   critic_score     8242 non-null   float64\n",
      " 9   user_score       7688 non-null   float64\n",
      " 10  rating           10085 non-null  object \n",
      "dtypes: float64(7), object(4)\n",
      "memory usage: 1.4+ MB\n"
     ]
    }
   ],
   "source": [
    "# проверим изменение типов данных:\n",
    "df.info()"
   ]
  },
  {
   "cell_type": "markdown",
   "id": "b39893cb",
   "metadata": {
    "id": "b39893cb"
   },
   "source": [
    "### Наличие пропусков в данных\n",
    "\n",
    "- Посчитакм количество пропусков в каждом столбце в абсолютных и относительных значениях.\n"
   ]
  },
  {
   "cell_type": "code",
   "execution_count": 8,
   "id": "0f1c91a8",
   "metadata": {
    "id": "0f1c91a8"
   },
   "outputs": [
    {
     "name": "stdout",
     "output_type": "stream",
     "text": [
      "name                  2\n",
      "platform              0\n",
      "year_of_release     275\n",
      "genre                 2\n",
      "na_sales              0\n",
      "eu_sales              6\n",
      "jp_sales              4\n",
      "other_sales           0\n",
      "critic_score       8714\n",
      "user_score         9268\n",
      "rating             6871\n",
      "dtype: int64\n"
     ]
    }
   ],
   "source": [
    "# в абсолютных:\n",
    "print(df.isnull().sum())"
   ]
  },
  {
   "cell_type": "code",
   "execution_count": 9,
   "id": "86cd1cc1",
   "metadata": {
    "id": "86cd1cc1"
   },
   "outputs": [
    {
     "name": "stdout",
     "output_type": "stream",
     "text": [
      "name               0.000118\n",
      "platform           0.000000\n",
      "year_of_release    0.016218\n",
      "genre              0.000118\n",
      "na_sales           0.000000\n",
      "eu_sales           0.000354\n",
      "jp_sales           0.000236\n",
      "other_sales        0.000000\n",
      "critic_score       0.513918\n",
      "user_score         0.546591\n",
      "rating             0.405225\n",
      "dtype: float64\n"
     ]
    }
   ],
   "source": [
    "# в относительных:\n",
    "print(df.isnull().mean())"
   ]
  },
  {
   "cell_type": "markdown",
   "id": "0817996f-1b7d-4d32-b419-6596f7251d3a",
   "metadata": {
    "id": "bd69e642"
   },
   "source": [
    "Мы видим пропуски в столбцах critic_score (51%), user_score (55%) - скорее всего пользователи и критики не выставили свои оценки. Также видим пропуски в rating(40%) - они говорят о том, что есть незаполненные данные о возрастных категориях. \n",
    "\n",
    "Пропуски можно заполнить медианой или модой, удалить, или заменить индикаторами.\n",
    "\n"
   ]
  },
  {
   "cell_type": "markdown",
   "id": "bbbe3bda",
   "metadata": {
    "id": "bbbe3bda"
   },
   "source": [
    "### Обработаем пропущенные значения"
   ]
  },
  {
   "cell_type": "markdown",
   "id": "c2f7d086-beb1-48b7-a123-e2290f666d75",
   "metadata": {},
   "source": [
    "Удалим строки с пропусками в годе издания (таких всего 1,6%, так что можем ими пренебречь), жанре (<1%) и названии (<1%)"
   ]
  },
  {
   "cell_type": "code",
   "execution_count": 10,
   "id": "f853f33a-ab91-40e1-a908-8f6c60962711",
   "metadata": {},
   "outputs": [],
   "source": [
    "df = df.dropna(subset=['genre', 'name', 'year_of_release'])"
   ]
  },
  {
   "cell_type": "markdown",
   "id": "cbcd6b89-1d62-47d1-866b-1906f59240e8",
   "metadata": {
    "id": "154be65d"
   },
   "source": [
    "Пропуски в critic_score и user_score мы заполним индикаторами (-1), так как процент пропусков слишком велик, чтобы заменять их средним значением. Позднее, при категоризации - выбросы от средних значений помешают нам."
   ]
  },
  {
   "cell_type": "code",
   "execution_count": 11,
   "id": "2784c760",
   "metadata": {
    "id": "2784c760"
   },
   "outputs": [],
   "source": [
    "# заполняем пропуски\n",
    "df['critic_score'] = df['critic_score'].fillna(-1)\n",
    "df['user_score'] = df['user_score'].fillna(-1)"
   ]
  },
  {
   "cell_type": "markdown",
   "id": "4b3c6e8d-2388-4b4c-aa95-7cb5708112d0",
   "metadata": {
    "id": "3f42817b"
   },
   "source": [
    "- Пропуски в rating мы проигнорируем, так как значения данного столбца не понадобятся нам в дальнейшем анализе.\n",
    "- Кстати, удалив пропуски в столбце даты релиза, можем произвести замену типа данных на `int64` для корректного представления."
   ]
  },
  {
   "cell_type": "code",
   "execution_count": 12,
   "id": "b80924d1-22c8-4b50-ab12-4d996772e6e7",
   "metadata": {},
   "outputs": [],
   "source": [
    "df['year_of_release'] = df['year_of_release'].astype(int)"
   ]
  },
  {
   "cell_type": "markdown",
   "id": "767c3f5b-0165-4220-be06-86ae14f92d28",
   "metadata": {},
   "source": [
    "Пропуски в количествах продаж (eu и jp sales) заменим средним значением в зависимости от платформы и года выхода игры:"
   ]
  },
  {
   "cell_type": "code",
   "execution_count": 13,
   "id": "1775a15c-7313-4f77-b3bd-05c847459772",
   "metadata": {},
   "outputs": [
    {
     "name": "stdout",
     "output_type": "stream",
     "text": [
      "Количество пропусков в 'eu_sales': 0\n",
      "Количество пропусков в 'jp_sales': 0\n"
     ]
    }
   ],
   "source": [
    "# подсчитаем средние значения кол-ва копий в разрезе платформы и года выхода\n",
    "sales_avg = df.groupby(['platform', 'year_of_release'])[['eu_sales', 'jp_sales']].mean()\n",
    "# напишем функцию, подставляющую средние значения вместо пропускоы\n",
    "def average_copies(row, sales_avg):\n",
    "    if pd.isna(row['eu_sales']):\n",
    "        row['eu_sales'] = sales_avg.loc[(row['platform'], row['year_of_release']), 'eu_sales']\n",
    "    if pd.isna(row['jp_sales']):\n",
    "        row['jp_sales'] = sales_avg.loc[(row['platform'], row['year_of_release']), 'jp_sales']\n",
    "    return row\n",
    "# применим функцию к строкам\n",
    "df = df.apply(average_copies, axis=1, sales_avg=sales_avg)\n",
    "\n",
    "# проверим, заполнились ли пропуски корректно\n",
    "eu_sales_missing = df['eu_sales'].isnull().sum()\n",
    "jp_sales_missing = df['jp_sales'].isnull().sum()\n",
    "print(f\"Количество пропусков в 'eu_sales': {eu_sales_missing}\")\n",
    "print(f\"Количество пропусков в 'jp_sales': {jp_sales_missing}\")"
   ]
  },
  {
   "cell_type": "markdown",
   "id": "a63363fd",
   "metadata": {
    "id": "a63363fd"
   },
   "source": [
    "### Явные и неявные дубликаты в данных\n",
    "\n",
    "- Изучим уникальные значения в категориальных данных, например с названиями жанра игры, платформы, рейтинга и года выпуска. Проверим, встречаются ли среди данных неявные дубликаты, связанные с опечатками или разным способом написания."
   ]
  },
  {
   "cell_type": "code",
   "execution_count": 14,
   "id": "491c9c39",
   "metadata": {
    "id": "491c9c39"
   },
   "outputs": [
    {
     "name": "stdout",
     "output_type": "stream",
     "text": [
      "Уникальные значения в столбце year_of_release: \n",
      " [2006 1985 2008 2009 1996 1989 1984 2005 1999 2007 2010 2013 2004 1990\n",
      " 1988 2002 2001 2011 1998 2015 2012 2014 1992 1997 1993 1994 1982 2016\n",
      " 2003 1986 2000 1995 1991 1981 1987 1980 1983]\n",
      "Уникальные значения в столбце platform: \n",
      " ['Wii' 'NES' 'GB' 'DS' 'X360' 'PS3' 'PS2' 'SNES' 'GBA' 'PS4' '3DS' 'N64'\n",
      " 'PS' 'XB' 'PC' '2600' 'PSP' 'XOne' 'WiiU' 'GC' 'GEN' 'DC' 'PSV' 'SAT'\n",
      " 'SCD' 'WS' 'NG' 'TG16' '3DO' 'GG' 'PCFX']\n",
      "Уникальные значения в столбце genre: \n",
      " ['Sports' 'Platform' 'Racing' 'Role-Playing' 'Puzzle' 'Misc' 'Shooter'\n",
      " 'Simulation' 'Action' 'Fighting' 'Adventure' 'Strategy' 'MISC'\n",
      " 'ROLE-PLAYING' 'RACING' 'ACTION' 'SHOOTER' 'FIGHTING' 'SPORTS' 'PLATFORM'\n",
      " 'ADVENTURE' 'SIMULATION' 'PUZZLE' 'STRATEGY']\n",
      "Уникальные значения в столбце name: \n",
      " ['Wii Sports' 'Super Mario Bros.' 'Mario Kart Wii' ...\n",
      " 'Woody Woodpecker in Crazy Castle 5' 'LMA Manager 2007'\n",
      " 'Haitaka no Psychedelica']\n"
     ]
    }
   ],
   "source": [
    "# изучим уникальные значения в столбцах с категориальными данными\n",
    "\n",
    "for col in ['year_of_release', 'platform', 'genre', 'name']:\n",
    "    uniq = df[col].unique()\n",
    "    print(f\"Уникальные значения в столбце {col}: \\n {uniq}\")"
   ]
  },
  {
   "cell_type": "code",
   "execution_count": 15,
   "id": "f1627198",
   "metadata": {
    "id": "f1627198"
   },
   "outputs": [],
   "source": [
    "# приведем жанры и платформы к нижнему регистру\n",
    "\n",
    "df['genre'] = df['genre'].str.lower()\n",
    "df['platform'] = df['platform'].str.lower()"
   ]
  },
  {
   "cell_type": "code",
   "execution_count": 16,
   "id": "a0cac80c",
   "metadata": {
    "id": "a0cac80c"
   },
   "outputs": [
    {
     "name": "stdout",
     "output_type": "stream",
     "text": [
      "Уникальные значения в столбце year_of_release: \n",
      " [2006 1985 2008 2009 1996 1989 1984 2005 1999 2007 2010 2013 2004 1990\n",
      " 1988 2002 2001 2011 1998 2015 2012 2014 1992 1997 1993 1994 1982 2016\n",
      " 2003 1986 2000 1995 1991 1981 1987 1980 1983]\n",
      "Уникальные значения в столбце platform: \n",
      " ['wii' 'nes' 'gb' 'ds' 'x360' 'ps3' 'ps2' 'snes' 'gba' 'ps4' '3ds' 'n64'\n",
      " 'ps' 'xb' 'pc' '2600' 'psp' 'xone' 'wiiu' 'gc' 'gen' 'dc' 'psv' 'sat'\n",
      " 'scd' 'ws' 'ng' 'tg16' '3do' 'gg' 'pcfx']\n",
      "Уникальные значения в столбце genre: \n",
      " ['sports' 'platform' 'racing' 'role-playing' 'puzzle' 'misc' 'shooter'\n",
      " 'simulation' 'action' 'fighting' 'adventure' 'strategy']\n",
      "Уникальные значения в столбце name: \n",
      " ['Wii Sports' 'Super Mario Bros.' 'Mario Kart Wii' ...\n",
      " 'Woody Woodpecker in Crazy Castle 5' 'LMA Manager 2007'\n",
      " 'Haitaka no Psychedelica']\n"
     ]
    }
   ],
   "source": [
    "# изучим уникальные значения в столбцах с категориальными данными\n",
    "\n",
    "for col in ['year_of_release', 'platform', 'genre', 'name']:\n",
    "    uniq = df[col].unique()\n",
    "    print(f\"Уникальные значения в столбце {col}: \\n {uniq}\")"
   ]
  },
  {
   "cell_type": "markdown",
   "id": "e845acfc-73a6-487e-a891-607cec4c47eb",
   "metadata": {
    "id": "fc5c91b5"
   },
   "source": [
    "Неявных дубликатов в списке жанров, плафторм и года издания **не обнаружено**. Для удобства приведем названия игр также к нижнему регистру."
   ]
  },
  {
   "cell_type": "code",
   "execution_count": 17,
   "id": "2f61e076",
   "metadata": {
    "id": "2f61e076"
   },
   "outputs": [],
   "source": [
    "df['name'] = df['name'].str.lower()"
   ]
  },
  {
   "cell_type": "markdown",
   "id": "b88b38c7-2fc8-467c-9b65-6d3a47d0771f",
   "metadata": {
    "id": "29e57705"
   },
   "source": [
    "**Займемся поисками явных дубликатов.** \n",
    " Сначала по всему датафрейму:"
   ]
  },
  {
   "cell_type": "code",
   "execution_count": 18,
   "id": "bcf78999-b3bf-4847-bc9c-5f1b70027dca",
   "metadata": {},
   "outputs": [
    {
     "data": {
      "text/html": [
       "<div>\n",
       "<style scoped>\n",
       "    .dataframe tbody tr th:only-of-type {\n",
       "        vertical-align: middle;\n",
       "    }\n",
       "\n",
       "    .dataframe tbody tr th {\n",
       "        vertical-align: top;\n",
       "    }\n",
       "\n",
       "    .dataframe thead th {\n",
       "        text-align: right;\n",
       "    }\n",
       "</style>\n",
       "<table border=\"1\" class=\"dataframe\">\n",
       "  <thead>\n",
       "    <tr style=\"text-align: right;\">\n",
       "      <th></th>\n",
       "      <th>name</th>\n",
       "      <th>platform</th>\n",
       "      <th>year_of_release</th>\n",
       "      <th>genre</th>\n",
       "      <th>na_sales</th>\n",
       "      <th>eu_sales</th>\n",
       "      <th>jp_sales</th>\n",
       "      <th>other_sales</th>\n",
       "      <th>critic_score</th>\n",
       "      <th>user_score</th>\n",
       "      <th>rating</th>\n",
       "    </tr>\n",
       "  </thead>\n",
       "  <tbody>\n",
       "    <tr>\n",
       "      <th>268</th>\n",
       "      <td>batman: arkham asylum</td>\n",
       "      <td>ps3</td>\n",
       "      <td>2009</td>\n",
       "      <td>action</td>\n",
       "      <td>2.24</td>\n",
       "      <td>1.31</td>\n",
       "      <td>0.07</td>\n",
       "      <td>0.61</td>\n",
       "      <td>91.0</td>\n",
       "      <td>8.9</td>\n",
       "      <td>T</td>\n",
       "    </tr>\n",
       "    <tr>\n",
       "      <th>368</th>\n",
       "      <td>james bond 007: agent under fire</td>\n",
       "      <td>ps2</td>\n",
       "      <td>2001</td>\n",
       "      <td>shooter</td>\n",
       "      <td>1.90</td>\n",
       "      <td>1.13</td>\n",
       "      <td>0.10</td>\n",
       "      <td>0.41</td>\n",
       "      <td>72.0</td>\n",
       "      <td>7.9</td>\n",
       "      <td>T</td>\n",
       "    </tr>\n",
       "    <tr>\n",
       "      <th>717</th>\n",
       "      <td>god of war: ascension</td>\n",
       "      <td>ps3</td>\n",
       "      <td>2013</td>\n",
       "      <td>action</td>\n",
       "      <td>1.23</td>\n",
       "      <td>0.63</td>\n",
       "      <td>0.04</td>\n",
       "      <td>0.35</td>\n",
       "      <td>80.0</td>\n",
       "      <td>7.5</td>\n",
       "      <td>M</td>\n",
       "    </tr>\n",
       "    <tr>\n",
       "      <th>823</th>\n",
       "      <td>wipeout: the game</td>\n",
       "      <td>wii</td>\n",
       "      <td>2009</td>\n",
       "      <td>misc</td>\n",
       "      <td>1.94</td>\n",
       "      <td>0.00</td>\n",
       "      <td>0.00</td>\n",
       "      <td>0.12</td>\n",
       "      <td>-1.0</td>\n",
       "      <td>-1.0</td>\n",
       "      <td>NaN</td>\n",
       "    </tr>\n",
       "    <tr>\n",
       "      <th>848</th>\n",
       "      <td>rayman raving rabbids: tv party</td>\n",
       "      <td>wii</td>\n",
       "      <td>2008</td>\n",
       "      <td>misc</td>\n",
       "      <td>0.72</td>\n",
       "      <td>1.08</td>\n",
       "      <td>0.00</td>\n",
       "      <td>0.23</td>\n",
       "      <td>73.0</td>\n",
       "      <td>7.7</td>\n",
       "      <td>E10+</td>\n",
       "    </tr>\n",
       "    <tr>\n",
       "      <th>...</th>\n",
       "      <td>...</td>\n",
       "      <td>...</td>\n",
       "      <td>...</td>\n",
       "      <td>...</td>\n",
       "      <td>...</td>\n",
       "      <td>...</td>\n",
       "      <td>...</td>\n",
       "      <td>...</td>\n",
       "      <td>...</td>\n",
       "      <td>...</td>\n",
       "      <td>...</td>\n",
       "    </tr>\n",
       "    <tr>\n",
       "      <th>16671</th>\n",
       "      <td>fullmetal alchemist: prince of the dawn</td>\n",
       "      <td>wii</td>\n",
       "      <td>2009</td>\n",
       "      <td>adventure</td>\n",
       "      <td>0.00</td>\n",
       "      <td>0.00</td>\n",
       "      <td>0.01</td>\n",
       "      <td>0.00</td>\n",
       "      <td>-1.0</td>\n",
       "      <td>-1.0</td>\n",
       "      <td>NaN</td>\n",
       "    </tr>\n",
       "    <tr>\n",
       "      <th>16753</th>\n",
       "      <td>routes pe</td>\n",
       "      <td>ps2</td>\n",
       "      <td>2007</td>\n",
       "      <td>adventure</td>\n",
       "      <td>0.00</td>\n",
       "      <td>0.00</td>\n",
       "      <td>0.01</td>\n",
       "      <td>0.00</td>\n",
       "      <td>-1.0</td>\n",
       "      <td>-1.0</td>\n",
       "      <td>NaN</td>\n",
       "    </tr>\n",
       "    <tr>\n",
       "      <th>16799</th>\n",
       "      <td>transformers: prime</td>\n",
       "      <td>wii</td>\n",
       "      <td>2012</td>\n",
       "      <td>action</td>\n",
       "      <td>0.00</td>\n",
       "      <td>0.01</td>\n",
       "      <td>0.00</td>\n",
       "      <td>0.00</td>\n",
       "      <td>-1.0</td>\n",
       "      <td>-1.0</td>\n",
       "      <td>NaN</td>\n",
       "    </tr>\n",
       "    <tr>\n",
       "      <th>16912</th>\n",
       "      <td>metal gear solid v: the definitive experience</td>\n",
       "      <td>xone</td>\n",
       "      <td>2016</td>\n",
       "      <td>action</td>\n",
       "      <td>0.01</td>\n",
       "      <td>0.00</td>\n",
       "      <td>0.00</td>\n",
       "      <td>0.00</td>\n",
       "      <td>-1.0</td>\n",
       "      <td>-1.0</td>\n",
       "      <td>M</td>\n",
       "    </tr>\n",
       "    <tr>\n",
       "      <th>16940</th>\n",
       "      <td>the longest 5 minutes</td>\n",
       "      <td>psv</td>\n",
       "      <td>2016</td>\n",
       "      <td>action</td>\n",
       "      <td>0.00</td>\n",
       "      <td>0.00</td>\n",
       "      <td>0.01</td>\n",
       "      <td>0.00</td>\n",
       "      <td>-1.0</td>\n",
       "      <td>-1.0</td>\n",
       "      <td>NaN</td>\n",
       "    </tr>\n",
       "  </tbody>\n",
       "</table>\n",
       "<p>235 rows × 11 columns</p>\n",
       "</div>"
      ],
      "text/plain": [
       "                                                name platform  \\\n",
       "268                            batman: arkham asylum      ps3   \n",
       "368                 james bond 007: agent under fire      ps2   \n",
       "717                            god of war: ascension      ps3   \n",
       "823                                wipeout: the game      wii   \n",
       "848                  rayman raving rabbids: tv party      wii   \n",
       "...                                              ...      ...   \n",
       "16671        fullmetal alchemist: prince of the dawn      wii   \n",
       "16753                                      routes pe      ps2   \n",
       "16799                            transformers: prime      wii   \n",
       "16912  metal gear solid v: the definitive experience     xone   \n",
       "16940                          the longest 5 minutes      psv   \n",
       "\n",
       "       year_of_release      genre  na_sales  eu_sales  jp_sales  other_sales  \\\n",
       "268               2009     action      2.24      1.31      0.07         0.61   \n",
       "368               2001    shooter      1.90      1.13      0.10         0.41   \n",
       "717               2013     action      1.23      0.63      0.04         0.35   \n",
       "823               2009       misc      1.94      0.00      0.00         0.12   \n",
       "848               2008       misc      0.72      1.08      0.00         0.23   \n",
       "...                ...        ...       ...       ...       ...          ...   \n",
       "16671             2009  adventure      0.00      0.00      0.01         0.00   \n",
       "16753             2007  adventure      0.00      0.00      0.01         0.00   \n",
       "16799             2012     action      0.00      0.01      0.00         0.00   \n",
       "16912             2016     action      0.01      0.00      0.00         0.00   \n",
       "16940             2016     action      0.00      0.00      0.01         0.00   \n",
       "\n",
       "       critic_score  user_score rating  \n",
       "268            91.0         8.9      T  \n",
       "368            72.0         7.9      T  \n",
       "717            80.0         7.5      M  \n",
       "823            -1.0        -1.0    NaN  \n",
       "848            73.0         7.7   E10+  \n",
       "...             ...         ...    ...  \n",
       "16671          -1.0        -1.0    NaN  \n",
       "16753          -1.0        -1.0    NaN  \n",
       "16799          -1.0        -1.0    NaN  \n",
       "16912          -1.0        -1.0      M  \n",
       "16940          -1.0        -1.0    NaN  \n",
       "\n",
       "[235 rows x 11 columns]"
      ]
     },
     "metadata": {},
     "output_type": "display_data"
    }
   ],
   "source": [
    "duplicates = df[df.duplicated()]\n",
    "display(duplicates)\n"
   ]
  },
  {
   "cell_type": "markdown",
   "id": "11aa782d-9224-4b01-bb16-fa04c960b22c",
   "metadata": {
    "id": "8548f894"
   },
   "source": [
    "Обнаружилось 235 строк - явных дубликатов. Удалим их и сохраним результат в новый датафрейм:"
   ]
  },
  {
   "cell_type": "code",
   "execution_count": 19,
   "id": "327e55bb",
   "metadata": {
    "id": "327e55bb"
   },
   "outputs": [],
   "source": [
    "df2 = df.drop_duplicates()"
   ]
  },
  {
   "cell_type": "markdown",
   "id": "072e6249-49c7-405c-b1ed-b8fee78aaf3f",
   "metadata": {
    "id": "0814c721"
   },
   "source": [
    "Подсчитаем процент удалённых в предыдущих шагах строк от изначального количества:"
   ]
  },
  {
   "cell_type": "code",
   "execution_count": 20,
   "id": "8d2fb6d4-e7fc-4f6c-b6ad-e6e6b6ee78ed",
   "metadata": {
    "id": "72645ae9"
   },
   "outputs": [
    {
     "name": "stdout",
     "output_type": "stream",
     "text": [
      "3.02 % строк удалено"
     ]
    }
   ],
   "source": [
    "# увы, изначально при удалении строк перезаписывал df, поэтому теперь придется еще раз прочитать csv в новую переменную для расчета\n",
    "df_start = pd.read_csv('new_games.csv')\n",
    "print(round((1 - len(df2) / len(df_start))*100, 2), end=' % строк удалено')"
   ]
  },
  {
   "cell_type": "markdown",
   "id": "e9823db2-7b66-443c-8a8a-844a9662988a",
   "metadata": {
    "id": "5166fdf8"
   },
   "source": [
    "Таким образом, мы провели предобработку данных: \n",
    "- Привели названия и типы столбцов к корректным форматам.\n",
    "- Обработали пропуски, выставив индикаторы, удалив, либо заменив средними значениями."
   ]
  },
  {
   "cell_type": "markdown",
   "id": "613f0eb0",
   "metadata": {
    "id": "613f0eb0"
   },
   "source": [
    "---\n",
    "\n",
    "## Фильтрация данных\n",
    "\n",
    "Для изучения истории продаж игр в начале XXI века, сделаем срез датафрейма с датой выхода игры с 2000 по 2013 год включительно. Сохраним новый срез данных в отдельном датафрейме - `df_actual`."
   ]
  },
  {
   "cell_type": "code",
   "execution_count": 21,
   "id": "2344916d",
   "metadata": {
    "id": "2344916d"
   },
   "outputs": [],
   "source": [
    "# фильтруем по дате релиза\n",
    "df_actual = df2[(df2['year_of_release'] >= 2000) & (df2['year_of_release'] <= 2013)]"
   ]
  },
  {
   "cell_type": "code",
   "execution_count": 22,
   "id": "44d7529f",
   "metadata": {
    "id": "44d7529f"
   },
   "outputs": [
    {
     "name": "stdout",
     "output_type": "stream",
     "text": [
      "2013\n",
      "2000\n"
     ]
    }
   ],
   "source": [
    "# проверим корректность среза\n",
    "print(df_actual['year_of_release'].max())\n",
    "print(df_actual['year_of_release'].min())"
   ]
  },
  {
   "cell_type": "markdown",
   "id": "a6f10b01",
   "metadata": {
    "id": "a6f10b01"
   },
   "source": [
    "---\n",
    "\n",
    "## Категоризация данных\n",
    "    \n",
    "### Проведем категоризацию данных:\n",
    "- Разделим все игры:\n",
    "-  по оценкам пользователей: высокая оценка (от 8 до 10), средняя оценка (от 3 до 8) и низкая оценка (от 0 до 3).\n",
    "-  по оценкам критиков: высокая оценка (от 80 до 100), средняя оценка (от 30 до 80) и низкая оценка (от 0 до 30)."
   ]
  },
  {
   "cell_type": "code",
   "execution_count": 23,
   "id": "e9c7130c-76eb-444e-b986-1650fdce26ed",
   "metadata": {},
   "outputs": [],
   "source": [
    "# сделаем копию df, чтоб питон не ругался\n",
    "df_actual = df_actual.copy()"
   ]
  },
  {
   "cell_type": "code",
   "execution_count": 24,
   "id": "3db87229",
   "metadata": {
    "id": "3db87229"
   },
   "outputs": [
    {
     "data": {
      "text/html": [
       "<div>\n",
       "<style scoped>\n",
       "    .dataframe tbody tr th:only-of-type {\n",
       "        vertical-align: middle;\n",
       "    }\n",
       "\n",
       "    .dataframe tbody tr th {\n",
       "        vertical-align: top;\n",
       "    }\n",
       "\n",
       "    .dataframe thead th {\n",
       "        text-align: right;\n",
       "    }\n",
       "</style>\n",
       "<table border=\"1\" class=\"dataframe\">\n",
       "  <thead>\n",
       "    <tr style=\"text-align: right;\">\n",
       "      <th></th>\n",
       "      <th>name</th>\n",
       "      <th>platform</th>\n",
       "      <th>year_of_release</th>\n",
       "      <th>genre</th>\n",
       "      <th>na_sales</th>\n",
       "      <th>eu_sales</th>\n",
       "      <th>jp_sales</th>\n",
       "      <th>other_sales</th>\n",
       "      <th>critic_score</th>\n",
       "      <th>user_score</th>\n",
       "      <th>rating</th>\n",
       "      <th>Оценка пользователей</th>\n",
       "      <th>Оценка критиков</th>\n",
       "    </tr>\n",
       "  </thead>\n",
       "  <tbody>\n",
       "    <tr>\n",
       "      <th>0</th>\n",
       "      <td>wii sports</td>\n",
       "      <td>wii</td>\n",
       "      <td>2006</td>\n",
       "      <td>sports</td>\n",
       "      <td>41.36</td>\n",
       "      <td>28.96</td>\n",
       "      <td>3.77</td>\n",
       "      <td>8.45</td>\n",
       "      <td>76.0</td>\n",
       "      <td>8.0</td>\n",
       "      <td>E</td>\n",
       "      <td>высокая оценка</td>\n",
       "      <td>средняя оценка</td>\n",
       "    </tr>\n",
       "    <tr>\n",
       "      <th>2</th>\n",
       "      <td>mario kart wii</td>\n",
       "      <td>wii</td>\n",
       "      <td>2008</td>\n",
       "      <td>racing</td>\n",
       "      <td>15.68</td>\n",
       "      <td>12.76</td>\n",
       "      <td>3.79</td>\n",
       "      <td>3.29</td>\n",
       "      <td>82.0</td>\n",
       "      <td>8.3</td>\n",
       "      <td>E</td>\n",
       "      <td>высокая оценка</td>\n",
       "      <td>высокая оценка</td>\n",
       "    </tr>\n",
       "    <tr>\n",
       "      <th>3</th>\n",
       "      <td>wii sports resort</td>\n",
       "      <td>wii</td>\n",
       "      <td>2009</td>\n",
       "      <td>sports</td>\n",
       "      <td>15.61</td>\n",
       "      <td>10.93</td>\n",
       "      <td>3.28</td>\n",
       "      <td>2.95</td>\n",
       "      <td>80.0</td>\n",
       "      <td>8.0</td>\n",
       "      <td>E</td>\n",
       "      <td>высокая оценка</td>\n",
       "      <td>высокая оценка</td>\n",
       "    </tr>\n",
       "    <tr>\n",
       "      <th>6</th>\n",
       "      <td>new super mario bros.</td>\n",
       "      <td>ds</td>\n",
       "      <td>2006</td>\n",
       "      <td>platform</td>\n",
       "      <td>11.28</td>\n",
       "      <td>9.14</td>\n",
       "      <td>6.50</td>\n",
       "      <td>2.88</td>\n",
       "      <td>89.0</td>\n",
       "      <td>8.5</td>\n",
       "      <td>E</td>\n",
       "      <td>высокая оценка</td>\n",
       "      <td>высокая оценка</td>\n",
       "    </tr>\n",
       "    <tr>\n",
       "      <th>7</th>\n",
       "      <td>wii play</td>\n",
       "      <td>wii</td>\n",
       "      <td>2006</td>\n",
       "      <td>misc</td>\n",
       "      <td>13.96</td>\n",
       "      <td>9.18</td>\n",
       "      <td>2.93</td>\n",
       "      <td>2.84</td>\n",
       "      <td>58.0</td>\n",
       "      <td>6.6</td>\n",
       "      <td>E</td>\n",
       "      <td>средняя оценка</td>\n",
       "      <td>средняя оценка</td>\n",
       "    </tr>\n",
       "  </tbody>\n",
       "</table>\n",
       "</div>"
      ],
      "text/plain": [
       "                    name platform  year_of_release     genre  na_sales  \\\n",
       "0             wii sports      wii             2006    sports     41.36   \n",
       "2         mario kart wii      wii             2008    racing     15.68   \n",
       "3      wii sports resort      wii             2009    sports     15.61   \n",
       "6  new super mario bros.       ds             2006  platform     11.28   \n",
       "7               wii play      wii             2006      misc     13.96   \n",
       "\n",
       "   eu_sales  jp_sales  other_sales  critic_score  user_score rating  \\\n",
       "0     28.96      3.77         8.45          76.0         8.0      E   \n",
       "2     12.76      3.79         3.29          82.0         8.3      E   \n",
       "3     10.93      3.28         2.95          80.0         8.0      E   \n",
       "6      9.14      6.50         2.88          89.0         8.5      E   \n",
       "7      9.18      2.93         2.84          58.0         6.6      E   \n",
       "\n",
       "  Оценка пользователей Оценка критиков  \n",
       "0       высокая оценка  средняя оценка  \n",
       "2       высокая оценка  высокая оценка  \n",
       "3       высокая оценка  высокая оценка  \n",
       "6       высокая оценка  высокая оценка  \n",
       "7       средняя оценка  средняя оценка  "
      ]
     },
     "execution_count": 24,
     "metadata": {},
     "output_type": "execute_result"
    }
   ],
   "source": [
    "# категоризируем\n",
    "df_actual.loc[:, 'Оценка пользователей'] = pd.cut(df_actual['user_score'], bins=[-2, 0, 3, 8, 10], right=False, labels=['нет оценки', 'низкая оценка','средняя оценка','высокая оценка'])\n",
    "df_actual.loc[:, 'Оценка критиков'] = pd.cut(df_actual['critic_score'], bins=[-2, 0, 30, 80, 100], right=False, labels=['нет оценки', 'низкая оценка','средняя оценка','высокая оценка'])\n",
    "df_actual.head()  \n",
    "# предупреждение возникает из-за того, что мы дали label значению nan. Это может помешать дальнейшей работе с данными, поэтому так делать нельзя\n",
    "# но в рамках данной задачи, думпю, можно закрыть глаза на это"
   ]
  },
  {
   "cell_type": "markdown",
   "id": "olkTlTlAUDR9",
   "metadata": {
    "id": "olkTlTlAUDR9"
   },
   "source": [
    "- После категоризации данных проверим результат: сгруппируем данные по выделенным категориям и посчитаем количество игр в каждой категории."
   ]
  },
  {
   "cell_type": "code",
   "execution_count": 25,
   "id": "HW0Nsp-4UMSL",
   "metadata": {
    "id": "HW0Nsp-4UMSL"
   },
   "outputs": [
    {
     "data": {
      "text/plain": [
       "Оценка пользователей\n",
       "нет оценки        6298\n",
       "низкая оценка      116\n",
       "средняя оценка    4081\n",
       "высокая оценка    2286\n",
       "Name: name, dtype: int64"
      ]
     },
     "execution_count": 25,
     "metadata": {},
     "output_type": "execute_result"
    }
   ],
   "source": [
    "df_grouped = df_actual.groupby('Оценка пользователей', observed=False, dropna=False)['name'].count()\n",
    "df_grouped\n"
   ]
  },
  {
   "cell_type": "code",
   "execution_count": 26,
   "id": "x2ne0HIpUMMD",
   "metadata": {
    "id": "x2ne0HIpUMMD"
   },
   "outputs": [
    {
     "data": {
      "text/plain": [
       "Оценка критиков\n",
       "нет оценки        5612\n",
       "низкая оценка       55\n",
       "средняя оценка    5422\n",
       "высокая оценка    1692\n",
       "Name: name, dtype: int64"
      ]
     },
     "execution_count": 26,
     "metadata": {},
     "output_type": "execute_result"
    }
   ],
   "source": [
    "df_grouped = df_actual.groupby('Оценка критиков', observed=False, dropna=False)['name'].count()\n",
    "df_grouped"
   ]
  },
  {
   "cell_type": "markdown",
   "id": "6a98444c",
   "metadata": {
    "id": "6a98444c"
   },
   "source": [
    "### Выделим топ-7 платформ по количеству игр, выпущенных за весь актуальный период."
   ]
  },
  {
   "cell_type": "code",
   "execution_count": 27,
   "id": "003caa2c",
   "metadata": {
    "id": "003caa2c"
   },
   "outputs": [
    {
     "data": {
      "text/plain": [
       "platform\n",
       "ps2     2127\n",
       "ds      2120\n",
       "wii     1275\n",
       "psp     1180\n",
       "x360    1121\n",
       "ps3     1087\n",
       "gba      811\n",
       "Name: name, dtype: int64"
      ]
     },
     "execution_count": 27,
     "metadata": {},
     "output_type": "execute_result"
    }
   ],
   "source": [
    "#считаем кол-во игр\n",
    "df_grouped_platforms = df_actual.groupby('platform')['name'].count()\n",
    "#сортируем по убыванию и отбираем 7 значений\n",
    "top_7_platforms = df_grouped_platforms.sort_values(ascending=False).head(7)\n",
    "top_7_platforms"
   ]
  },
  {
   "cell_type": "markdown",
   "id": "c0158881",
   "metadata": {
    "id": "c0158881"
   },
   "source": [
    "---\n",
    "\n",
    "## Итоговый вывод\n"
   ]
  },
  {
   "cell_type": "markdown",
   "id": "a5f43069-124e-44a9-abf5-c5a837066ce6",
   "metadata": {
    "id": "9fe570b3"
   },
   "source": [
    "Итак, в ходе предобработки данных мы:\n",
    "- Создали срез данных (игры, изданные с 2000 по 2013 год) и добавили классификацию по \n",
    "- Категоризовали игры по оценкам: низким, средним и высоким.\n",
    "- Определили платформы, на которых было выпущено наибольшее количество игр в указанный период. Эти данные помогут в дальнейшем анализировать предпочтения игроков и влияние платформ на успех игр.\n",
    "\n",
    "Полученные результаты могут быть использованы для более глубокого анализа рыночных трендов в игровой индустрии и для прогнозирования будущих успехов игр в зависимости от платформ и их оценки.\n",
    "\n"
   ]
  }
 ],
 "metadata": {
  "colab": {
   "provenance": []
  },
  "kernelspec": {
   "display_name": "Python [conda env:base] *",
   "language": "python",
   "name": "conda-base-py"
  },
  "language_info": {
   "codemirror_mode": {
    "name": "ipython",
    "version": 3
   },
   "file_extension": ".py",
   "mimetype": "text/x-python",
   "name": "python",
   "nbconvert_exporter": "python",
   "pygments_lexer": "ipython3",
   "version": "3.12.7"
  },
  "toc": {
   "base_numbering": 1,
   "nav_menu": {},
   "number_sections": true,
   "sideBar": true,
   "skip_h1_title": true,
   "title_cell": "Table of Contents",
   "title_sidebar": "Contents",
   "toc_cell": false,
   "toc_position": {},
   "toc_section_display": true,
   "toc_window_display": false
  }
 },
 "nbformat": 4,
 "nbformat_minor": 5
}
